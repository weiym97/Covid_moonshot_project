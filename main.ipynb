{
 "cells": [
  {
   "cell_type": "markdown",
   "id": "f6c2f132",
   "metadata": {},
   "source": [
    "### Step 1: Construct the assays & compounds table"
   ]
  },
  {
   "cell_type": "markdown",
   "id": "fb711bd4",
   "metadata": {},
   "source": [
    "#### 1.1 Construct the assays table,with fields as the following"
   ]
  },
  {
   "attachments": {},
   "cell_type": "markdown",
   "id": "ac270224",
   "metadata": {},
   "source": [
    "CID VARCHAR(30) PRIMARY KEY,\n",
    "r_inhibition_at_20_uM DOUBLE,\n",
    "r_inhibition_at_50_uM DOUBLE,\n",
    "r_avg_IC50 DOUBLE,\n",
    "f_inhibition_at_20_uM DOUBLE,\n",
    "f_inhibition_at_50_uM DOUBLE,\n",
    "f_avg_IC50 DOUBLE,\n",
    "f_avg_pIC50 DOUBLE\n"
   ]
  },
  {
   "cell_type": "code",
   "execution_count": 1,
   "metadata": {},
   "outputs": [],
   "source": [
    "import sqlite3 as sql"
   ]
  },
  {
   "cell_type": "code",
   "execution_count": null,
   "id": "b3d2d755",
   "metadata": {},
   "outputs": [],
   "source": []
  }
 ],
 "metadata": {
  "kernelspec": {
   "display_name": "Python 3",
   "language": "python",
   "name": "python3"
  },
  "language_info": {
   "codemirror_mode": {
    "name": "ipython",
    "version": 3
   },
   "file_extension": ".py",
   "mimetype": "text/x-python",
   "name": "python",
   "nbconvert_exporter": "python",
   "pygments_lexer": "ipython3",
   "version": "3.7.4"
  }
 },
 "nbformat": 4,
 "nbformat_minor": 5
}
