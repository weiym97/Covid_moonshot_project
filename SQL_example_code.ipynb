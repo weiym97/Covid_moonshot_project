{
 "cells": [
  {
   "cell_type": "markdown",
   "id": "626015b7",
   "metadata": {},
   "source": [
    "## Practice 2: Build up a database from scratch and work on it"
   ]
  },
  {
   "cell_type": "code",
   "execution_count": 19,
   "id": "9943d667",
   "metadata": {},
   "outputs": [],
   "source": [
    "import sqlite3 as sql\n",
    "import pathlib\n",
    "import pandas as pd\n",
    "import numpy as np"
   ]
  },
  {
   "cell_type": "markdown",
   "id": "9ec5850d",
   "metadata": {},
   "source": [
    "First of all, we do some practice on Pathlib"
   ]
  },
  {
   "cell_type": "code",
   "execution_count": 16,
   "id": "f2131022",
   "metadata": {},
   "outputs": [],
   "source": [
    "p = pathlib.Path('/home/drug_discovery/COVID_moonshot_submissions/covid_submissions_all_info.csv')\n"
   ]
  },
  {
   "cell_type": "code",
   "execution_count": 17,
   "id": "ad62a0ba",
   "metadata": {},
   "outputs": [
    {
     "data": {
      "text/plain": [
       "PosixPath('/home/drug_discovery/COVID_moonshot_submissions/covid_submissions_all_info.csv')"
      ]
     },
     "execution_count": 17,
     "metadata": {},
     "output_type": "execute_result"
    }
   ],
   "source": [
    "p"
   ]
  },
  {
   "cell_type": "code",
   "execution_count": 36,
   "id": "a961e412",
   "metadata": {},
   "outputs": [
    {
     "data": {
      "text/plain": [
       "False"
      ]
     },
     "execution_count": 36,
     "metadata": {},
     "output_type": "execute_result"
    }
   ],
   "source": [
    "pathlib.PurePath('./src/goo/scripts/setup.py').is_absolute()"
   ]
  },
  {
   "cell_type": "markdown",
   "id": "0c54760d",
   "metadata": {},
   "source": [
    "p_1 = pathlib.PurePath('/src/goo')\n",
    "p_2 = p_1.joinpath('scripts','main.py')\n",
    "p_2.with_name('not_main.py')"
   ]
  },
  {
   "cell_type": "code",
   "execution_count": 48,
   "id": "85158be9",
   "metadata": {},
   "outputs": [
    {
     "name": "stdout",
     "output_type": "stream",
     "text": [
      "/home/sabsr3/drug_discovery/COVID_moonshot_submissions/orders\n",
      "/home/sabsr3/drug_discovery/COVID_moonshot_submissions/covid_submissions_all_info.csv\n",
      "/home/sabsr3/drug_discovery/COVID_moonshot_submissions/.git\n",
      "/home/sabsr3/drug_discovery/COVID_moonshot_submissions/try\n",
      "/home/sabsr3/drug_discovery/COVID_moonshot_submissions/update_data.py\n",
      "/home/sabsr3/drug_discovery/COVID_moonshot_submissions/covid_moonshot_ids.csv\n",
      "/home/sabsr3/drug_discovery/COVID_moonshot_submissions/HTS\n",
      "/home/sabsr3/drug_discovery/COVID_moonshot_submissions/README.md\n",
      "/home/sabsr3/drug_discovery/COVID_moonshot_submissions/antiviral_data.xlsx\n",
      "/home/sabsr3/drug_discovery/COVID_moonshot_submissions/lib\n",
      "/home/sabsr3/drug_discovery/COVID_moonshot_submissions/.gitignore\n",
      "/home/sabsr3/drug_discovery/COVID_moonshot_submissions/plots\n",
      "/home/sabsr3/drug_discovery/COVID_moonshot_submissions/.ipynb_checkpoints\n",
      "/home/sabsr3/drug_discovery/COVID_moonshot_submissions/Practice_1.py\n",
      "/home/sabsr3/drug_discovery/COVID_moonshot_submissions/downloaded_COVID_submissions_file.csv\n",
      "/home/sabsr3/drug_discovery/COVID_moonshot_submissions/shipments\n",
      "/home/sabsr3/drug_discovery/COVID_moonshot_submissions/suspected_SMILES.csv\n",
      "/home/sabsr3/drug_discovery/COVID_moonshot_submissions/data_for_CDD\n",
      "/home/sabsr3/drug_discovery/COVID_moonshot_submissions/structures\n"
     ]
    },
    {
     "data": {
      "text/plain": [
       "True"
      ]
     },
     "execution_count": 48,
     "metadata": {},
     "output_type": "execute_result"
    }
   ],
   "source": [
    "p = pathlib.Path('/home/sabsr3/drug_discovery/COVID_moonshot_submissions')\n",
    "for child in p.iterdir():\n",
    "    print(child)\n",
    "p.exists()\n",
    "directory = pathlib.Path('/home/sabsr3/drug_discovery/COVID_moonshot_submissions/try')\n",
    "directory.exists()"
   ]
  },
  {
   "cell_type": "code",
   "execution_count": 54,
   "id": "a27e5b90",
   "metadata": {},
   "outputs": [],
   "source": [
    "data_file = Path('COVID_moonshot_submissions/covid_submissions_all_info.csv')\n",
    "db_file = Path('COVID_moonshot_submissions/sabs_rdbms.db')"
   ]
  },
  {
   "cell_type": "code",
   "execution_count": 82,
   "id": "401872e9",
   "metadata": {},
   "outputs": [
    {
     "ename": "OperationalError",
     "evalue": "database is locked",
     "output_type": "error",
     "traceback": [
      "\u001b[0;31m---------------------------------------------------------------------------\u001b[0m",
      "\u001b[0;31mOperationalError\u001b[0m                          Traceback (most recent call last)",
      "Cell \u001b[0;32mIn[82], line 3\u001b[0m\n\u001b[1;32m      1\u001b[0m \u001b[38;5;66;03m# Step 1: drop the database\u001b[39;00m\n\u001b[1;32m      2\u001b[0m \u001b[38;5;28;01mfor\u001b[39;00m table_name \u001b[38;5;129;01min\u001b[39;00m (\u001b[38;5;124m'\u001b[39m\u001b[38;5;124mcompounds\u001b[39m\u001b[38;5;124m'\u001b[39m,\u001b[38;5;124m'\u001b[39m\u001b[38;5;124msubmissions\u001b[39m\u001b[38;5;124m'\u001b[39m):\n\u001b[0;32m----> 3\u001b[0m     \u001b[43msql\u001b[49m\u001b[38;5;241;43m.\u001b[39;49m\u001b[43mconnect\u001b[49m\u001b[43m(\u001b[49m\u001b[43mdb_file\u001b[49m\u001b[43m)\u001b[49m\u001b[38;5;241;43m.\u001b[39;49m\u001b[43mexecute\u001b[49m\u001b[43m(\u001b[49m\u001b[38;5;124;43m'\u001b[39;49m\u001b[38;5;124;43mDROP TABLE IF EXISTS \u001b[39;49m\u001b[38;5;124;43m'\u001b[39;49m\u001b[43m \u001b[49m\u001b[38;5;241;43m+\u001b[39;49m\u001b[43m \u001b[49m\u001b[43mtable_name\u001b[49m\u001b[43m)\u001b[49m\n",
      "\u001b[0;31mOperationalError\u001b[0m: database is locked"
     ]
    }
   ],
   "source": [
    "# Step 1: drop the database\n",
    "for table_name in ('compounds','submissions'):\n",
    "    sql.connect(db_file).execute('DROP TABLE IF EXISTS ' + table_name)"
   ]
  },
  {
   "cell_type": "code",
   "execution_count": 66,
   "id": "d2e17150",
   "metadata": {},
   "outputs": [
    {
     "data": {
      "text/plain": [
       "<sqlite3.Cursor at 0x7fce22c02a40>"
      ]
     },
     "execution_count": 66,
     "metadata": {},
     "output_type": "execute_result"
    }
   ],
   "source": [
    "# Step 2: create a new database\n",
    "conn = sql.connect(db_file)\n",
    "conn.execute('''\n",
    "CREATE TABLE submissions\n",
    "(\n",
    "    submission_id VARCHAR(20) PRIMARY KEY,\n",
    "    name_code CHAR(3) NOT NULL,\n",
    "    institute_code CHAR(3) NOT NULL,\n",
    "    random_id CHAR(8) NOT NULL\n",
    ")\n",
    "\n",
    "''')\n",
    "conn.execute('''\n",
    "CREATE TABLE compounds\n",
    "(\n",
    "    compound_id VARCHAR(20) PRIMARY KEY,\n",
    "    smiles VARCHAR(2000) NOT NULL,\n",
    "    submission_id VARCHAR(20) NOT NULL,\n",
    "    made VARHAR(5) NOT NULL,\n",
    "    inchi_key CHAR(27) NOT NULL,\n",
    "    MW DECIMAL NOT NULL,\n",
    "    r_avg_IC50 DECIMAL,\n",
    "    FOREIGN KEY(submission_id) REFERENCES submissions(submission_id)\n",
    ")\n",
    "''')"
   ]
  },
  {
   "cell_type": "code",
   "execution_count": 78,
   "id": "8c4e5121",
   "metadata": {},
   "outputs": [
    {
     "name": "stdout",
     "output_type": "stream",
     "text": [
      "('submissions',)\n",
      "('compounds',)\n",
      "submissions\n",
      "\n",
      "CREATE TABLE submissions\n",
      "(\n",
      "    submission_id VARCHAR(20) PRIMARY KEY,\n",
      "    name_code CHAR(3) NOT NULL,\n",
      "    institute_code CHAR(3) NOT NULL,\n",
      "    random_id CHAR(8) NOT NULL\n",
      ")\n",
      "compounds\n",
      "\n",
      "CREATE TABLE compounds\n",
      "(\n",
      "    compound_id VARCHAR(20) PRIMARY KEY,\n",
      "    smiles VARCHAR(2000) NOT NULL,\n",
      "    submission_id VARCHAR(20) NOT NULL,\n",
      "    made VARHAR(5) NOT NULL,\n",
      "    inchi_key CHAR(27) NOT NULL,\n",
      "    MW DECIMAL NOT NULL,\n",
      "    r_avg_IC50 DECIMAL,\n",
      "    FOREIGN KEY(submission_id) REFERENCES submissions(submission_id)\n",
      ")\n"
     ]
    }
   ],
   "source": [
    "# Step 3: Show tables\n",
    "cur = sql.connect(db_file).execute('''\n",
    "SELECT name FROM sqlite_master WHERE type = 'table' AND name NOT LIKE 'sqlite_%'\n",
    "''')\n",
    "tables = []\n",
    "for row in cur.fetchall():\n",
    "    print(row)\n",
    "    tables.append(row[0])\n",
    "    \n",
    "for table in tables:\n",
    "    cur = sql.connect(db_file).execute('SELECT sql FROM sqlite_master WHERE name=\\'' + table + '\\'')\n",
    "    row = cur.fetchone()\n",
    "    if row is not None:\n",
    "        print(table+'\\n')\n",
    "        print(row[0])\n",
    "    else:\n",
    "        print('Table ' + table + ' not found')"
   ]
  },
  {
   "cell_type": "code",
   "execution_count": 81,
   "id": "ada4c91c",
   "metadata": {},
   "outputs": [
    {
     "name": "stderr",
     "output_type": "stream",
     "text": [
      "/tmp/ipykernel_4504/4027572663.py:2: DtypeWarning: Columns (3,6,7,9,10,11,12,13,14,15,18,19,27,28,29,30,31,32,33,34,35,36,44,45,46,47,48,49,50,51,52,53,54,55,56,57,58,59,66,67,69,70,71,72,73,74,75,76,84,85,86,87,89,90,91,92,93,94,95,96,104,105,106,107,109,110,111,112,113,114,115,116,124,125,126,127,129,130,131,132,133,134,135,136,144,145,146,147,149,150,151,152,153,154,155,156,164,165,166,167,169,170,171,172,173,174,175,176,184,185,186,187,189,190,191,192,193,194,195,196,204,205,206,207,209,210,211,212,213,214,215,216,224,225,226,227,229,230,231,232,233,234,235,236,244,245,246,247,249,253,254,255,256,257,258,259,275,276) have mixed types. Specify dtype option on import or set low_memory=False.\n",
      "  df = pd.read_csv(data_file)\n"
     ]
    },
    {
     "ename": "OperationalError",
     "evalue": "database is locked",
     "output_type": "error",
     "traceback": [
      "\u001b[0;31m---------------------------------------------------------------------------\u001b[0m",
      "\u001b[0;31mOperationalError\u001b[0m                          Traceback (most recent call last)",
      "Cell \u001b[0;32mIn[81], line 13\u001b[0m\n\u001b[1;32m     10\u001b[0m submission_numpy \u001b[38;5;241m=\u001b[39m submission_table\u001b[38;5;241m.\u001b[39mto_numpy()\n\u001b[1;32m     12\u001b[0m conn \u001b[38;5;241m=\u001b[39m sql\u001b[38;5;241m.\u001b[39mconnect(db_file)\n\u001b[0;32m---> 13\u001b[0m \u001b[43mconn\u001b[49m\u001b[38;5;241;43m.\u001b[39;49m\u001b[43mexecutemany\u001b[49m\u001b[43m(\u001b[49m\u001b[38;5;124;43m\"\u001b[39;49m\u001b[38;5;124;43mINSERT INTO submissions (name_code,institute_code,random_id,submission_id) VALUES(?,?,?,?)\u001b[39;49m\u001b[38;5;124;43m\"\u001b[39;49m\u001b[43m,\u001b[49m\u001b[43msubmission_numpy\u001b[49m\u001b[43m)\u001b[49m\n",
      "\u001b[0;31mOperationalError\u001b[0m: database is locked"
     ]
    }
   ],
   "source": [
    "# Add records to the table\n",
    "df = pd.read_csv(data_file)\n",
    "temp = df['CID'].str.split(\"-\",n=3,expand=True)\n",
    "submission_table = pd.DataFrame({\n",
    "    'name_code':temp[0],\n",
    "    'institute_code':temp[1],\n",
    "    'random_id':temp[2]\n",
    "}).drop_duplicates()\n",
    "submission_table['submission_id'] = submission_table['name_code'] + '-' + submission_table['institute_code'] + '-' + submission_table['random_id']\n",
    "submission_numpy = submission_table.to_numpy()\n",
    "\n",
    "conn = sql.connect(db_file)\n",
    "# Note: the parameters passed into should be Iterable[Iterable[Any]]\n",
    "conn.executemany(\"INSERT INTO submissions (name_code,institute_code,random_id,submission_id) VALUES(?,?,?,?)\",submission_numpy)"
   ]
  }
 ],
 "metadata": {
  "kernelspec": {
   "display_name": "Python 3 (ipykernel)",
   "language": "python",
   "name": "python3"
  },
  "language_info": {
   "codemirror_mode": {
    "name": "ipython",
    "version": 3
   },
   "file_extension": ".py",
   "mimetype": "text/x-python",
   "name": "python",
   "nbconvert_exporter": "python",
   "pygments_lexer": "ipython3",
   "version": "3.10.6"
  }
 },
 "nbformat": 4,
 "nbformat_minor": 5
}
